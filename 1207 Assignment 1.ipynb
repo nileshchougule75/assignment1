{
 "cells": [
  {
   "cell_type": "markdown",
   "id": "8b4fa04b",
   "metadata": {},
   "source": [
    "## Assignment 1\n",
    "**Deadline**: 23rd September 2024\n",
    "\n",
    "This assessment consists of 20 MongoDB queries, ranging from easy to hard. You are required to use the following sample data:\n",
    "\n",
    "```json\n",
    "{\n",
    "    \"students\": [\n",
    "        {\"name\": \"Rohit\", \"age\": 23, \"math_score\": 85, \"physics_score\": 90, \"city\": \"New York\"},\n",
    "        {\"name\": \"Eram\", \"age\": 22, \"math_score\": 78, \"physics_score\": 75, \"city\": \"Los Angeles\"},\n",
    "        {\"name\": \"Madan\", \"age\": 24, \"math_score\": 95, \"physics_score\": 88, \"city\": \"Chicago\"},\n",
    "        {\"name\": \"Uvaish\", \"age\": 21, \"math_score\": 60, \"physics_score\": 65, \"city\": \"Houston\"},\n",
    "        {\"name\": \"Neha\", \"age\": 23, \"math_score\": 72, \"physics_score\": 80, \"city\": \"Phoenix\"}\n",
    "    ]\n",
    "}\n",
    "\n",
    "```\n",
    "\n",
    "Please submit your solutions by the given deadline.\n"
   ]
  },
  {
   "cell_type": "markdown",
   "id": "3e733b76",
   "metadata": {},
   "source": [
    "1. Insert the given sample data into a MongoDB collection called 'students'."
   ]
  },
  {
   "cell_type": "code",
   "execution_count": 3,
   "id": "03d2d6e6",
   "metadata": {},
   "outputs": [],
   "source": [
    "\n",
    "pip install pymongo\n",
    "\n",
    "import pymongo\n",
    "\n",
    "client=pymongo.MongoClient(\"mongodb://localhost:27017/\")\n",
    "mydb=client[\"Unmessenger\"]\n",
    "collection=mydb.Internship\n",
    "collection=mydb[\"Internship\"]\n",
    "\n",
    "students= [\n",
    "        {\"name\": \"Rohit\", \"age\": 23, \"math_score\": 85, \"physics_score\": 90, \"city\": \"New York\"},\n",
    "        {\"name\": \"Eram\", \"age\": 22, \"math_score\": 78, \"physics_score\": 75, \"city\": \"Los Angeles\"},\n",
    "        {\"name\": \"Madan\", \"age\": 24, \"math_score\": 95, \"physics_score\": 88, \"city\": \"Chicago\"},\n",
    "        {\"name\": \"Uvaish\", \"age\": 21, \"math_score\": 60, \"physics_score\": 65, \"city\": \"Houston\"},\n",
    "        {\"name\": \"Neha\", \"age\": 23, \"math_score\": 72, \"physics_score\": 80, \"city\": \"Phoenix\"}\n",
    "    ]\n",
    "\n",
    "\n",
    "collection.insert_many(students)"
   ]
  },
  {
   "cell_type": "markdown",
   "id": "c63a46c2",
   "metadata": {},
   "source": [
    "2. Write a query to find all students who have a 'math_score' greater than 80."
   ]
  },
  {
   "cell_type": "code",
   "execution_count": 11,
   "id": "2a6ca4b7",
   "metadata": {},
   "outputs": [
    {
     "name": "stdout",
     "output_type": "stream",
     "text": [
      "{'_id': ObjectId('66fd48c21f248aa72445b095'), 'name': 'Rohit', 'age': 23, 'math_score': 85, 'physics_score': 90, 'city': 'New York'}\n",
      "{'_id': ObjectId('66fd48c21f248aa72445b097'), 'name': 'Madan', 'age': 24, 'math_score': 95, 'physics_score': 88, 'city': 'Chicago'}\n"
     ]
    }
   ],
   "source": [
    "query = {\"math_score\": {\"$gt\": 80}}\n",
    "for student in collection.find(query):\n",
    "    print(student)\n"
   ]
  },
  {
   "cell_type": "markdown",
   "id": "f965853a",
   "metadata": {},
   "source": [
    "3. Write a query to find students whose 'age' is less than 23."
   ]
  },
  {
   "cell_type": "code",
   "execution_count": 12,
   "id": "6140e412",
   "metadata": {},
   "outputs": [
    {
     "name": "stdout",
     "output_type": "stream",
     "text": [
      "{'_id': ObjectId('66fd48c21f248aa72445b096'), 'name': 'Eram', 'age': 22, 'math_score': 78, 'physics_score': 75, 'city': 'Los Angeles'}\n",
      "{'_id': ObjectId('66fd48c21f248aa72445b098'), 'name': 'Uvaish', 'age': 21, 'math_score': 60, 'physics_score': 65, 'city': 'Houston'}\n"
     ]
    }
   ],
   "source": [
    "query = {\"age\": {\"$lt\": 23}}\n",
    "for student in collection.find(query):\n",
    "    print(student)"
   ]
  },
  {
   "cell_type": "markdown",
   "id": "88005dde",
   "metadata": {},
   "source": [
    "4. Write a query to return only the 'name' and 'math_score' of all students."
   ]
  },
  {
   "cell_type": "code",
   "execution_count": 14,
   "id": "b274135f",
   "metadata": {},
   "outputs": [
    {
     "name": "stdout",
     "output_type": "stream",
     "text": [
      "{'name': 'Rohit', 'math_score': 85}\n",
      "{'name': 'Eram', 'math_score': 78}\n",
      "{'name': 'Madan', 'math_score': 95}\n",
      "{'name': 'Uvaish', 'math_score': 60}\n",
      "{'name': 'Neha', 'math_score': 72}\n"
     ]
    }
   ],
   "source": [
    "for student in collection.find({}, {\"_id\":0,\"name\": 1, \"math_score\": 1}):\n",
    "    print(student)"
   ]
  },
  {
   "cell_type": "markdown",
   "id": "7a148d48",
   "metadata": {},
   "source": [
    "5. Write a query to find students from the city 'New York'."
   ]
  },
  {
   "cell_type": "code",
   "execution_count": 15,
   "id": "2acedafc",
   "metadata": {},
   "outputs": [
    {
     "name": "stdout",
     "output_type": "stream",
     "text": [
      "{'_id': ObjectId('66fd48c21f248aa72445b095'), 'name': 'Rohit', 'age': 23, 'math_score': 85, 'physics_score': 90, 'city': 'New York'}\n"
     ]
    }
   ],
   "source": [
    "query={\"city\":\"New York\"}\n",
    "for students in collection.find(query):\n",
    "    print(students)"
   ]
  },
  {
   "cell_type": "markdown",
   "id": "aaa6f033",
   "metadata": {},
   "source": [
    "6. Write a query to update the 'physics_score' of 'Bob' to 85."
   ]
  },
  {
   "cell_type": "code",
   "execution_count": 16,
   "id": "ae4d1f5f",
   "metadata": {},
   "outputs": [
    {
     "data": {
      "text/plain": [
       "UpdateResult({'n': 1, 'nModified': 1, 'ok': 1.0, 'updatedExisting': True}, acknowledged=True)"
      ]
     },
     "execution_count": 16,
     "metadata": {},
     "output_type": "execute_result"
    }
   ],
   "source": [
    "collection.update_one({\"name\": \"Bob\"}, {\"$set\": {\"physics_score\": 85}})"
   ]
  },
  {
   "cell_type": "markdown",
   "id": "1df67d31",
   "metadata": {},
   "source": [
    "7. Write a query to delete the student 'David' from the collection."
   ]
  },
  {
   "cell_type": "code",
   "execution_count": 17,
   "id": "293c2347",
   "metadata": {},
   "outputs": [
    {
     "data": {
      "text/plain": [
       "DeleteResult({'n': 1, 'ok': 1.0}, acknowledged=True)"
      ]
     },
     "execution_count": 17,
     "metadata": {},
     "output_type": "execute_result"
    }
   ],
   "source": [
    "collection.delete_one({\"name\":\"Rohit\"})"
   ]
  },
  {
   "cell_type": "markdown",
   "id": "ad535a0b",
   "metadata": {},
   "source": [
    "8. Write a query to find all students where 'math_score' is between 70 and 90 (inclusive)."
   ]
  },
  {
   "cell_type": "code",
   "execution_count": 19,
   "id": "6a3c58a8",
   "metadata": {},
   "outputs": [
    {
     "name": "stdout",
     "output_type": "stream",
     "text": [
      "{'math_score': {'$gte': 70, '$lte': 90}}\n",
      "{'math_score': {'$gte': 70, '$lte': 90}}\n",
      "{'math_score': {'$gte': 70, '$lte': 90}}\n"
     ]
    }
   ],
   "source": [
    "query={\"math_score\": {\"$gte\":70, \"$lte\":90}}\n",
    "for students in collection.find(query):\n",
    "    print(query)"
   ]
  },
  {
   "cell_type": "markdown",
   "id": "cfb2950f",
   "metadata": {},
   "source": [
    "9. Write a query to find students whose 'math_score' is greater than 'physics_score'."
   ]
  },
  {
   "cell_type": "code",
   "execution_count": 25,
   "id": "ac170ca2",
   "metadata": {},
   "outputs": [
    {
     "name": "stdout",
     "output_type": "stream",
     "text": [
      "{'_id': ObjectId('66fd48c21f248aa72445b096'), 'name': 'Eram', 'age': 22, 'math_score': 78, 'physics_score': 75, 'city': 'Los Angeles'}\n",
      "{'_id': ObjectId('66fd48c21f248aa72445b097'), 'name': 'Madan', 'age': 24, 'math_score': 95, 'physics_score': 88, 'city': 'Chicago'}\n"
     ]
    }
   ],
   "source": [
    "query = {\"$expr\": {\"$gt\": [\"$math_score\", \"$physics_score\"]}}\n",
    "for students in collection.find(query):\n",
    "    print(students)"
   ]
  },
  {
   "cell_type": "markdown",
   "id": "cebc3d1a",
   "metadata": {},
   "source": [
    "10. Write a query to return students sorted by 'math_score' in descending order."
   ]
  },
  {
   "cell_type": "code",
   "execution_count": 39,
   "id": "1b44a3bd",
   "metadata": {},
   "outputs": [
    {
     "name": "stdout",
     "output_type": "stream",
     "text": [
      "{'_id': ObjectId('66fd48c21f248aa72445b097'), 'name': 'Madan', 'age': 24, 'math_score': 95, 'physics_score': 88, 'city': 'Chicago'}\n",
      "{'_id': ObjectId('66fd4bce1f248aa72445b09a'), 'name': 'Rohit', 'age': 23, 'math_score': 85, 'physics_score': 90, 'city': 'New York'}\n",
      "{'_id': ObjectId('66fd48c21f248aa72445b096'), 'name': 'Eram', 'age': 22, 'math_score': 78, 'physics_score': 75, 'city': 'Los Angeles'}\n",
      "{'_id': ObjectId('66fd48c21f248aa72445b099'), 'name': 'Neha', 'age': 23, 'math_score': 72, 'physics_score': 80, 'city': 'Phoenix'}\n",
      "{'_id': ObjectId('66fd48c21f248aa72445b098'), 'name': 'Uvaish', 'age': 21, 'math_score': 60, 'physics_score': 65, 'city': 'Houston'}\n"
     ]
    }
   ],
   "source": [
    "math_score_by_descending_order = collection.find().sort(\"math_score\", -1) \n",
    "for students in math_score_by_descending_order :\n",
    "    print(students)\n"
   ]
  },
  {
   "cell_type": "markdown",
   "id": "be69f913",
   "metadata": {},
   "source": [
    "11. Write a query using the aggregation framework to calculate the average 'math_score' of all students."
   ]
  },
  {
   "cell_type": "code",
   "execution_count": 46,
   "id": "8041c7fb",
   "metadata": {},
   "outputs": [
    {
     "name": "stdout",
     "output_type": "stream",
     "text": [
      "{'_id': None, 'avg_math_score': 78.0}\n"
     ]
    }
   ],
   "source": [
    "pipeline=[\n",
    "    {\n",
    "        \"$group\": {\n",
    "            \"_id\": None,\n",
    "            \"avg_math_score\": {\"$avg\":\"$math_score\"}\n",
    "        }\n",
    "    }\n",
    "]\n",
    "\n",
    "avg_math_score=collection.aggregate(pipeline)\n",
    "\n",
    "for avg in avg_math_score:\n",
    " print(avg)\n",
    "\n",
    "\n"
   ]
  },
  {
   "cell_type": "markdown",
   "id": "cf841104",
   "metadata": {},
   "source": [
    "12. Write a query to group students by 'city' and count the number of students in each city."
   ]
  },
  {
   "cell_type": "code",
   "execution_count": 56,
   "id": "11c79007",
   "metadata": {},
   "outputs": [
    {
     "name": "stdout",
     "output_type": "stream",
     "text": [
      "{'_id': 'Phoenix', 'student_count': 1}\n",
      "{'_id': 'Los Angeles', 'student_count': 1}\n",
      "{'_id': 'Chicago', 'student_count': 1}\n",
      "{'_id': 'Houston', 'student_count': 1}\n",
      "{'_id': 'New York', 'student_count': 1}\n"
     ]
    }
   ],
   "source": [
    "pipeline = [\n",
    "    {\n",
    "        \"$group\": {\n",
    "            \"_id\": \"$city\",  \n",
    "            \"student_count\": {\"$sum\": 1}  \n",
    "        }\n",
    "    }\n",
    "]\n",
    "\n",
    "\n",
    "students_by_city = collection.aggregate(pipeline)\n",
    "\n",
    "\n",
    "for output in students_by_city:\n",
    "    print(output)"
   ]
  },
  {
   "cell_type": "markdown",
   "id": "422ec61c",
   "metadata": {},
   "source": [
    "13. Write a query to find students who either have 'math_score' greater than 80 or 'physics_score' greater than 85."
   ]
  },
  {
   "cell_type": "code",
   "execution_count": 57,
   "id": "260dcc6a",
   "metadata": {},
   "outputs": [
    {
     "name": "stdout",
     "output_type": "stream",
     "text": [
      "{'_id': ObjectId('66fd48c21f248aa72445b097'), 'name': 'Madan', 'age': 24, 'math_score': 95, 'physics_score': 88, 'city': 'Chicago'}\n",
      "{'_id': ObjectId('66fd4bce1f248aa72445b09a'), 'name': 'Rohit', 'age': 23, 'math_score': 85, 'physics_score': 90, 'city': 'New York'}\n"
     ]
    }
   ],
   "source": [
    "query = {\n",
    "    \"$or\": [\n",
    "        \n",
    "    \n",
    "            {\"math_score\": {\"$gt\": 80}},\n",
    "            {\"physics_score\": {\"$gt\": 85}}\n",
    "        ]}\n",
    "    \n",
    "\n",
    "for students in collection.find(query):\n",
    "    print(students)"
   ]
  },
  {
   "cell_type": "markdown",
   "id": "ca4d6f63",
   "metadata": {},
   "source": [
    "14. Write a query to find students whose age is exactly 23 and live in 'Phoenix'."
   ]
  },
  {
   "cell_type": "code",
   "execution_count": 68,
   "id": "8743c54d",
   "metadata": {},
   "outputs": [
    {
     "name": "stdout",
     "output_type": "stream",
     "text": [
      "{'_id': ObjectId('66fd48c21f248aa72445b099'), 'name': 'Neha', 'age': 23, 'math_score': 72, 'physics_score': 80, 'city': 'Phoenix'}\n"
     ]
    }
   ],
   "source": [
    "query = {\n",
    "    \"age\": 23,\n",
    "    \"city\": \"Phoenix\"\n",
    "}\n",
    "\n",
    "for student in collection.find(query):\n",
    "    print(student)"
   ]
  },
  {
   "cell_type": "markdown",
   "id": "2f871c8d",
   "metadata": {},
   "source": [
    "15. Write a query to find students whose 'math_score' is not equal to 85."
   ]
  },
  {
   "cell_type": "code",
   "execution_count": 69,
   "id": "31dad59e",
   "metadata": {},
   "outputs": [
    {
     "name": "stdout",
     "output_type": "stream",
     "text": [
      "{'_id': ObjectId('66fd48c21f248aa72445b096'), 'name': 'Eram', 'age': 22, 'math_score': 78, 'physics_score': 75, 'city': 'Los Angeles'}\n",
      "{'_id': ObjectId('66fd48c21f248aa72445b097'), 'name': 'Madan', 'age': 24, 'math_score': 95, 'physics_score': 88, 'city': 'Chicago'}\n",
      "{'_id': ObjectId('66fd48c21f248aa72445b098'), 'name': 'Uvaish', 'age': 21, 'math_score': 60, 'physics_score': 65, 'city': 'Houston'}\n",
      "{'_id': ObjectId('66fd48c21f248aa72445b099'), 'name': 'Neha', 'age': 23, 'math_score': 72, 'physics_score': 80, 'city': 'Phoenix'}\n"
     ]
    }
   ],
   "source": [
    "query= {\n",
    "    \"math_score\": {\"$ne\": 85}\n",
    "}\n",
    "\n",
    "for students in collection.find(query):\n",
    "    print(students)"
   ]
  },
  {
   "cell_type": "markdown",
   "id": "60ea1681",
   "metadata": {},
   "source": [
    "16. Write a query to find students whose 'name' starts with the letter 'A'."
   ]
  },
  {
   "cell_type": "code",
   "execution_count": 72,
   "id": "7bd53a1f",
   "metadata": {},
   "outputs": [
    {
     "name": "stdout",
     "output_type": "stream",
     "text": [
      "{'_id': ObjectId('66fd4bce1f248aa72445b09a'), 'name': 'Anit', 'age': 23, 'math_score': 85, 'physics_score': 90, 'city': 'New York'}\n"
     ]
    }
   ],
   "source": [
    "query={\n",
    "    \"name\": {\"$regex\":\"^A\"}\n",
    "}\n",
    "\n",
    "for students in collection.find(query):\n",
    "    print(students)"
   ]
  },
  {
   "cell_type": "markdown",
   "id": "ed20ebf4",
   "metadata": {},
   "source": [
    "17. Write a query to find students whose 'city' is neither 'New York' nor 'Los Angeles'."
   ]
  },
  {
   "cell_type": "code",
   "execution_count": 73,
   "id": "756b4281",
   "metadata": {},
   "outputs": [
    {
     "name": "stdout",
     "output_type": "stream",
     "text": [
      "{'_id': ObjectId('66fd48c21f248aa72445b097'), 'name': 'Madan', 'age': 24, 'math_score': 95, 'physics_score': 88, 'city': 'Chicago'}\n",
      "{'_id': ObjectId('66fd48c21f248aa72445b098'), 'name': 'Uvaish', 'age': 21, 'math_score': 60, 'physics_score': 65, 'city': 'Houston'}\n",
      "{'_id': ObjectId('66fd48c21f248aa72445b099'), 'name': 'Neha', 'age': 23, 'math_score': 72, 'physics_score': 80, 'city': 'Phoenix'}\n"
     ]
    }
   ],
   "source": [
    "query={\n",
    "    \"city\": {\"$nin\":[\"New York\", \"Los Angeles\"]}\n",
    "}\n",
    "\n",
    "for students in collection.find(query):\n",
    "    print(students)"
   ]
  },
  {
   "cell_type": "markdown",
   "id": "02cbae8c",
   "metadata": {},
   "source": [
    "18. Write a query to update all students with 'age' greater than 22 to add a new field 'graduated': true."
   ]
  },
  {
   "cell_type": "code",
   "execution_count": 75,
   "id": "24708ab9",
   "metadata": {},
   "outputs": [
    {
     "name": "stdout",
     "output_type": "stream",
     "text": [
      "Updated all student UpdateResult({'n': 3, 'nModified': 0, 'ok': 1.0, 'updatedExisting': True}, acknowledged=True)\n"
     ]
    }
   ],
   "source": [
    "query={ \"age\": {\"$gt\": 22}}\n",
    "\n",
    "update= {\"$set\": {\"graduated\": True}}\n",
    "\n",
    "updation=collection.update_many(query, update)\n",
    "\n",
    "print(\"Updated all student\",updation)"
   ]
  },
  {
   "cell_type": "markdown",
   "id": "d2212656",
   "metadata": {},
   "source": [
    "19. Write a query to remove the 'physics_score' field for students who live in 'Chicago'."
   ]
  },
  {
   "cell_type": "code",
   "execution_count": 77,
   "id": "eb52a26e",
   "metadata": {},
   "outputs": [
    {
     "name": "stdout",
     "output_type": "stream",
     "text": [
      "Remove Physics score who live in Chicago UpdateResult({'n': 1, 'nModified': 0, 'ok': 1.0, 'updatedExisting': True}, acknowledged=True)\n"
     ]
    }
   ],
   "source": [
    "query={\"city\": \"Chicago\"}\n",
    "\n",
    "update= {\"$unset\": {\"Physics_score\": \"\"}}\n",
    "\n",
    "updation= collection.update_many(query, update)\n",
    "\n",
    "print(\"Remove Physics score who live in Chicago\",updation)"
   ]
  },
  {
   "cell_type": "markdown",
   "id": "29fcb8f8",
   "metadata": {},
   "source": [
    "20. Write a query to find the student with the highest 'math_score'."
   ]
  },
  {
   "cell_type": "code",
   "execution_count": 82,
   "id": "4f647fd1",
   "metadata": {},
   "outputs": [
    {
     "name": "stdout",
     "output_type": "stream",
     "text": [
      "{'_id': ObjectId('66fd48c21f248aa72445b097'), 'name': 'Madan', 'age': 24, 'math_score': 95, 'physics_score': 88, 'city': 'Chicago', 'graduated': True}\n"
     ]
    }
   ],
   "source": [
    "pipeline = [\n",
    "    {\n",
    "        \"$sort\": {\"math_score\": -1}    \n",
    "    },\n",
    "\n",
    "    {\n",
    "        \"$limit\": 1\n",
    "    }\n",
    "]\n",
    "\n",
    "\n",
    "for students in collection.aggregate(pipeline):\n",
    "    print(students)"
   ]
  }
 ],
 "metadata": {
  "kernelspec": {
   "display_name": "base",
   "language": "python",
   "name": "python3"
  },
  "language_info": {
   "codemirror_mode": {
    "name": "ipython",
    "version": 3
   },
   "file_extension": ".py",
   "mimetype": "text/x-python",
   "name": "python",
   "nbconvert_exporter": "python",
   "pygments_lexer": "ipython3",
   "version": "3.11.7"
  }
 },
 "nbformat": 4,
 "nbformat_minor": 5
}
